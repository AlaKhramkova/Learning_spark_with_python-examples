{
 "cells": [
  {
   "cell_type": "code",
   "execution_count": 75,
   "metadata": {},
   "outputs": [
    {
     "name": "stdout",
     "output_type": "stream",
     "text": [
      "<SparkContext master=local[*] appName=PySparkShell>\n"
     ]
    }
   ],
   "source": [
    "print(sc)"
   ]
  },
  {
   "cell_type": "code",
   "execution_count": 76,
   "metadata": {
    "collapsed": true
   },
   "outputs": [],
   "source": [
    "data= sc.textFile('Downloads/hollins.dat.gz').map(lambda x:(x.split(\" \")[0], x.split(\" \")[1]))"
   ]
  },
  {
   "cell_type": "code",
   "execution_count": 77,
   "metadata": {
    "collapsed": true
   },
   "outputs": [],
   "source": [
    "links = data.filter(lambda keyValue: \"http://\" not in keyValue[1]) "
   ]
  },
  {
   "cell_type": "code",
   "execution_count": 78,
   "metadata": {},
   "outputs": [
    {
     "data": {
      "text/plain": [
       "[('1', 1),\n",
       " ('2', 1),\n",
       " ('3', 1),\n",
       " ('4', 1),\n",
       " ('5', 1),\n",
       " ('6', 1),\n",
       " ('7', 1),\n",
       " ('8', 1),\n",
       " ('9', 1),\n",
       " ('10', 1)]"
      ]
     },
     "execution_count": 78,
     "metadata": {},
     "output_type": "execute_result"
    }
   ],
   "source": [
    "ranks_str = data.filter(lambda keyValue: \"http://\" in keyValue[1]) \n",
    "ranks = ranks_str.mapValues(lambda value:1)\n",
    "ranks.take(10)"
   ]
  },
  {
   "cell_type": "code",
   "execution_count": 79,
   "metadata": {},
   "outputs": [
    {
     "data": {
      "text/plain": [
       "6012"
      ]
     },
     "execution_count": 79,
     "metadata": {},
     "output_type": "execute_result"
    }
   ],
   "source": [
    "ranks.count()"
   ]
  },
  {
   "cell_type": "code",
   "execution_count": 80,
   "metadata": {
    "collapsed": true
   },
   "outputs": [],
   "source": [
    "links_float = links.mapValues(lambda value:int(value))"
   ]
  },
  {
   "cell_type": "code",
   "execution_count": 81,
   "metadata": {
    "scrolled": true
   },
   "outputs": [
    {
     "data": {
      "text/plain": [
       "[('1',\n",
       "  ['2',\n",
       "   '3',\n",
       "   '4',\n",
       "   '5',\n",
       "   '6',\n",
       "   '7',\n",
       "   '8',\n",
       "   '9',\n",
       "   '10',\n",
       "   '11',\n",
       "   '12',\n",
       "   '13',\n",
       "   '14',\n",
       "   '15',\n",
       "   '16',\n",
       "   '17',\n",
       "   '18',\n",
       "   '19',\n",
       "   '20',\n",
       "   '21',\n",
       "   '22',\n",
       "   '23',\n",
       "   '24',\n",
       "   '25'])]"
      ]
     },
     "execution_count": 81,
     "metadata": {},
     "output_type": "execute_result"
    }
   ],
   "source": [
    "links_noheader= links.filter(lambda keyValue:keyValue[1]!='23875')\n",
    "links_noheader.count()\n",
    "links_noheader.filter(lambda keyValue:keyValue[0]=='1').reduceByKey(lambda x,y:x+' '+y).mapValues(lambda x:list(x.split(\" \"))).take(1)\n"
   ]
  },
  {
   "cell_type": "code",
   "execution_count": 82,
   "metadata": {},
   "outputs": [
    {
     "name": "stdout",
     "output_type": "stream",
     "text": [
      "[('145', ['2', '27', '28', '31', '37', '38', '43', '52', '61', '73', '138', '164', '614', '625', '626']), ('499', ['1520', '1521', '1522', '1523', '1524', '1525', '1526', '1527', '1528', '1529', '1530', '1531', '1532']), ('3188', ['3789', '3790', '3791'])]\n"
     ]
    },
    {
     "data": {
      "text/plain": [
       "2823"
      ]
     },
     "execution_count": 82,
     "metadata": {},
     "output_type": "execute_result"
    }
   ],
   "source": [
    "links_agg=links_noheader.reduceByKey(lambda x,y:x+' '+y).mapValues(lambda x:list(x.split(\" \"))).partitionBy(4).persist()\n",
    "print(links_agg.take(3))\n",
    "links_agg.count()"
   ]
  },
  {
   "cell_type": "code",
   "execution_count": 83,
   "metadata": {},
   "outputs": [
    {
     "data": {
      "text/plain": [
       "2823"
      ]
     },
     "execution_count": 83,
     "metadata": {},
     "output_type": "execute_result"
    }
   ],
   "source": [
    "links_agg.join(ranks).count()"
   ]
  },
  {
   "cell_type": "code",
   "execution_count": 84,
   "metadata": {},
   "outputs": [
    {
     "name": "stdout",
     "output_type": "stream",
     "text": [
      "[('425', 1.0)]\n",
      "[('131', 0.043478260869565216)]\n",
      "[('822', 0.027142857142857142)]\n",
      "[('1805', 0.010997442455242964)]\n",
      "[('2', 0.15459133356705926)]\n",
      "[('18', 1.372363884993737)]\n",
      "[('2', 0.017513451780923447)]\n",
      "[('5888', 0.017684670781893)]\n",
      "[('2', 0.033162463093445185)]\n",
      "[('1805', 0.014936452136012177)]\n",
      "[('2', 0.012375241937305449)]\n",
      "[('1344', 0.012408791636322258)]\n",
      "[('2', 0.013937331001644375)]\n",
      "[('1469', 0.050306803047224166)]\n",
      "[('3907', 0.18755438762687418)]\n",
      "[('3222', 2.243810638105895)]\n",
      "[('2', 0.030631263544996096)]\n",
      "[('289', 0.17997936654849866)]\n",
      "[('3189', 0.4853992545846504)]\n",
      "[('283', 0.17676268645623472)]\n",
      "%s has rank: %s. ('283', 0.3002482834877995)\n",
      "%s has rank: %s. ('2707', 0.1535285493858371)\n",
      "%s has rank: %s. ('5494', 0.20868193308173105)\n"
     ]
    }
   ],
   "source": [
    "def computeContribs(urls, rank):\n",
    "    \"\"\"Calculates URL contributions to the rank of other URLs.\"\"\"\n",
    "    num_urls = len(urls)\n",
    "    for url in urls:\n",
    "        yield (url, rank / num_urls)\n",
    "for iteration in range(10):\n",
    "    # Calculates URL contributions to the rank of other URLs.\n",
    "    contributions = links_agg.join(ranks).flatMap(lambda url_urls_rank: computeContribs(url_urls_rank[1][0], url_urls_rank[1][1]))\n",
    "    print(contributions.take(1)) \n",
    "     # Re-calculates URL ranks based on neighbor contributions.\n",
    "    ranks = contributions.reduceByKey(lambda x,y:x+y).mapValues(lambda rank: rank * 0.85 + 0.15)\n",
    "    print(contributions.reduceByKey(lambda x,y:x+y).take(1))\n",
    "# Collects all URL ranks and dump them to console.\n",
    "for (link, rank) in ranks.take(3):\n",
    "    print(\"%s has rank: %s.\" ,(link, rank))"
   ]
  },
  {
   "cell_type": "code",
   "execution_count": 85,
   "metadata": {},
   "outputs": [
    {
     "data": {
      "text/plain": [
       "[('2', 46.10691105759518),\n",
       " ('37', 24.468079296370252),\n",
       " ('38', 22.67016158801036)]"
      ]
     },
     "execution_count": 85,
     "metadata": {},
     "output_type": "execute_result"
    }
   ],
   "source": [
    "ranks.takeOrdered(3,lambda atuple: -atuple[1])"
   ]
  },
  {
   "cell_type": "code",
   "execution_count": 95,
   "metadata": {},
   "outputs": [
    {
     "data": {
      "text/plain": [
       "[('2',\n",
       "  ['26',\n",
       "   '27',\n",
       "   '28',\n",
       "   '29',\n",
       "   '30',\n",
       "   '31',\n",
       "   '32',\n",
       "   '33',\n",
       "   '34',\n",
       "   '35',\n",
       "   '36',\n",
       "   '37',\n",
       "   '38',\n",
       "   '39',\n",
       "   '40',\n",
       "   '41',\n",
       "   '42',\n",
       "   '43',\n",
       "   '44',\n",
       "   '45',\n",
       "   '46',\n",
       "   '47',\n",
       "   '48',\n",
       "   '49',\n",
       "   '50'])]"
      ]
     },
     "execution_count": 95,
     "metadata": {},
     "output_type": "execute_result"
    }
   ],
   "source": [
    "links_noheader.filter(lambda keyValue:keyValue[0]=='2').reduceByKey(lambda x,y:x+' '+y).mapValues(lambda x:list(x.split(\" \"))).take(1)"
   ]
  },
  {
   "cell_type": "code",
   "execution_count": 87,
   "metadata": {},
   "outputs": [
    {
     "data": {
      "text/plain": [
       "[('6', '190'), ('6', '191')]"
      ]
     },
     "execution_count": 87,
     "metadata": {},
     "output_type": "execute_result"
    }
   ],
   "source": [
    "links_noheader.filter(lambda keyValue:keyValue[0]=='6').take(20)"
   ]
  },
  {
   "cell_type": "code",
   "execution_count": null,
   "metadata": {
    "collapsed": true
   },
   "outputs": [],
   "source": [
    "ranks.saveAsTextFile('ranks_new3')"
   ]
  },
  {
   "cell_type": "code",
   "execution_count": 46,
   "metadata": {},
   "outputs": [
    {
     "data": {
      "text/plain": [
       "[('2', 0.012331823386921743),\n",
       " ('34', 0.012331823386921743),\n",
       " ('37', 0.012331823386921743),\n",
       " ('38', 0.012331823386921743),\n",
       " ('43', 0.012331823386921743),\n",
       " ('52', 0.012331823386921743),\n",
       " ('73', 0.012331823386921743),\n",
       " ('148', 0.012331823386921743),\n",
       " ('174', 0.012331823386921743),\n",
       " ('175', 0.012331823386921743)]"
      ]
     },
     "execution_count": 46,
     "metadata": {},
     "output_type": "execute_result"
    }
   ],
   "source": [
    "links_agg.join(ranks).flatMap(lambda url_urls_rank: computeContribs(url_urls_rank[1][0], url_urls_rank[1][1])).take(10)"
   ]
  },
  {
   "cell_type": "code",
   "execution_count": 94,
   "metadata": {},
   "outputs": [
    {
     "name": "stdout",
     "output_type": "stream",
     "text": [
      "[('2', 46.10691105759518)]\n"
     ]
    }
   ],
   "source": [
    "print(ranks.filter(lambda keyValue:keyValue[0]=='2').collect())"
   ]
  },
  {
   "cell_type": "code",
   "execution_count": null,
   "metadata": {
    "collapsed": true
   },
   "outputs": [],
   "source": []
  }
 ],
 "metadata": {
  "kernelspec": {
   "display_name": "Python 3",
   "language": "python",
   "name": "python3"
  },
  "language_info": {
   "codemirror_mode": {
    "name": "ipython",
    "version": 3
   },
   "file_extension": ".py",
   "mimetype": "text/x-python",
   "name": "python",
   "nbconvert_exporter": "python",
   "pygments_lexer": "ipython3",
   "version": "3.5.3"
  }
 },
 "nbformat": 4,
 "nbformat_minor": 2
}
